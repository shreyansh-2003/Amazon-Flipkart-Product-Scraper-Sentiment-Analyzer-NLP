{
 "cells": [
  {
   "cell_type": "code",
   "execution_count": 1,
   "metadata": {},
   "outputs": [],
   "source": [
    "#importing .py libraries\n",
    "import amz_comments_scraper\n",
    "import ecom_prod_scraper\n",
    "import ProductReviewAnalysis\n",
    "import ProjectVisualisations"
   ]
  },
  {
   "attachments": {},
   "cell_type": "markdown",
   "metadata": {},
   "source": [
    "# Creating a Product Based Dataset (Amazon + Flipkart)"
   ]
  },
  {
   "cell_type": "code",
   "execution_count": 2,
   "metadata": {},
   "outputs": [],
   "source": [
    "#Device specific headers at https://httpbin.org/get\n",
    "headers = {\"User-Agent\": \"Mozilla/5.0 (Macintosh; Intel Mac OS X 10_15_7) AppleWebKit/537.36 (KHTML, like Gecko) Chrome/113.0.0.0 Safari/537.36\"}\n",
    "\n",
    "# exec_code(product, brand, time_limit, device_specific_headers)\n",
    "df, brand_present_df = ecom_prod_scraper.exec_code(\"Iphone 13\",\"Apple\",30,headers)"
   ]
  },
  {
   "cell_type": "code",
   "execution_count": 3,
   "metadata": {},
   "outputs": [
    {
     "data": {
      "text/html": [
       "<div>\n",
       "<style scoped>\n",
       "    .dataframe tbody tr th:only-of-type {\n",
       "        vertical-align: middle;\n",
       "    }\n",
       "\n",
       "    .dataframe tbody tr th {\n",
       "        vertical-align: top;\n",
       "    }\n",
       "\n",
       "    .dataframe thead th {\n",
       "        text-align: right;\n",
       "    }\n",
       "</style>\n",
       "<table border=\"1\" class=\"dataframe\">\n",
       "  <thead>\n",
       "    <tr style=\"text-align: right;\">\n",
       "      <th></th>\n",
       "      <th>querry_searched</th>\n",
       "      <th>ecommerce_website</th>\n",
       "      <th>product_name</th>\n",
       "      <th>product_price</th>\n",
       "      <th>product_rating</th>\n",
       "      <th>rating_count</th>\n",
       "      <th>poduct_image_url</th>\n",
       "      <th>product_url</th>\n",
       "      <th>reviews_count</th>\n",
       "    </tr>\n",
       "  </thead>\n",
       "  <tbody>\n",
       "    <tr>\n",
       "      <th>594</th>\n",
       "      <td>Iphone 13</td>\n",
       "      <td>Flipkart</td>\n",
       "      <td>APPLE iPhone 6s (Rose Gold, 64 GB)</td>\n",
       "      <td>72000.0</td>\n",
       "      <td>4.5</td>\n",
       "      <td>93079.0</td>\n",
       "      <td>https://rukminim1.flixcart.com/image/312/312/m...</td>\n",
       "      <td>/apple-iphone-6s-rose-gold-64-gb/p/itmeby3vdbf...</td>\n",
       "      <td>9,233</td>\n",
       "    </tr>\n",
       "    <tr>\n",
       "      <th>434</th>\n",
       "      <td>Iphone 13</td>\n",
       "      <td>Flipkart</td>\n",
       "      <td>APPLE iPhone 11 (Purple, 64 GB)</td>\n",
       "      <td>42199.0</td>\n",
       "      <td>4.6</td>\n",
       "      <td>194018.0</td>\n",
       "      <td>https://rukminim1.flixcart.com/image/312/312/k...</td>\n",
       "      <td>/apple-iphone-11-purple-64-gb/p/itm2b8d03427dd...</td>\n",
       "      <td>11,163</td>\n",
       "    </tr>\n",
       "    <tr>\n",
       "      <th>454</th>\n",
       "      <td>Iphone 13</td>\n",
       "      <td>Flipkart</td>\n",
       "      <td>APPLE iPhone 14 (Purple, 512 GB)</td>\n",
       "      <td>101999.0</td>\n",
       "      <td>4.6</td>\n",
       "      <td>33209.0</td>\n",
       "      <td>https://rukminim1.flixcart.com/image/312/312/x...</td>\n",
       "      <td>/apple-iphone-14-purple-512-gb/p/itm97a1b38589...</td>\n",
       "      <td>1,295</td>\n",
       "    </tr>\n",
       "    <tr>\n",
       "      <th>619</th>\n",
       "      <td>Iphone 13</td>\n",
       "      <td>Flipkart</td>\n",
       "      <td>APPLE iPhone 7 (Gold, 32 GB)</td>\n",
       "      <td>31500.0</td>\n",
       "      <td>4.5</td>\n",
       "      <td>95139.0</td>\n",
       "      <td>https://rukminim1.flixcart.com/image/312/312/k...</td>\n",
       "      <td>/apple-iphone-7-gold-32-gb/p/itmen6daf99nhhjz?...</td>\n",
       "      <td>9,196</td>\n",
       "    </tr>\n",
       "    <tr>\n",
       "      <th>605</th>\n",
       "      <td>Iphone 13</td>\n",
       "      <td>Flipkart</td>\n",
       "      <td>APPLE iPhone 12 Pro Max (Pacific Blue, 256 GB)</td>\n",
       "      <td>104799.0</td>\n",
       "      <td>4.5</td>\n",
       "      <td>1268.0</td>\n",
       "      <td>https://rukminim1.flixcart.com/image/312/312/k...</td>\n",
       "      <td>/apple-iphone-12-pro-max-pacific-blue-256-gb/p...</td>\n",
       "      <td>102</td>\n",
       "    </tr>\n",
       "  </tbody>\n",
       "</table>\n",
       "</div>"
      ],
      "text/plain": [
       "    querry_searched ecommerce_website  \\\n",
       "594       Iphone 13          Flipkart   \n",
       "434       Iphone 13          Flipkart   \n",
       "454       Iphone 13          Flipkart   \n",
       "619       Iphone 13          Flipkart   \n",
       "605       Iphone 13          Flipkart   \n",
       "\n",
       "                                       product_name  product_price  \\\n",
       "594              APPLE iPhone 6s (Rose Gold, 64 GB)        72000.0   \n",
       "434                 APPLE iPhone 11 (Purple, 64 GB)        42199.0   \n",
       "454                APPLE iPhone 14 (Purple, 512 GB)       101999.0   \n",
       "619                    APPLE iPhone 7 (Gold, 32 GB)        31500.0   \n",
       "605  APPLE iPhone 12 Pro Max (Pacific Blue, 256 GB)       104799.0   \n",
       "\n",
       "     product_rating  rating_count  \\\n",
       "594             4.5       93079.0   \n",
       "434             4.6      194018.0   \n",
       "454             4.6       33209.0   \n",
       "619             4.5       95139.0   \n",
       "605             4.5        1268.0   \n",
       "\n",
       "                                      poduct_image_url  \\\n",
       "594  https://rukminim1.flixcart.com/image/312/312/m...   \n",
       "434  https://rukminim1.flixcart.com/image/312/312/k...   \n",
       "454  https://rukminim1.flixcart.com/image/312/312/x...   \n",
       "619  https://rukminim1.flixcart.com/image/312/312/k...   \n",
       "605  https://rukminim1.flixcart.com/image/312/312/k...   \n",
       "\n",
       "                                           product_url reviews_count  \n",
       "594  /apple-iphone-6s-rose-gold-64-gb/p/itmeby3vdbf...         9,233  \n",
       "434  /apple-iphone-11-purple-64-gb/p/itm2b8d03427dd...        11,163  \n",
       "454  /apple-iphone-14-purple-512-gb/p/itm97a1b38589...         1,295  \n",
       "619  /apple-iphone-7-gold-32-gb/p/itmen6daf99nhhjz?...         9,196  \n",
       "605  /apple-iphone-12-pro-max-pacific-blue-256-gb/p...           102  "
      ]
     },
     "execution_count": 3,
     "metadata": {},
     "output_type": "execute_result"
    }
   ],
   "source": [
    "df.sample(5)"
   ]
  },
  {
   "cell_type": "code",
   "execution_count": 4,
   "metadata": {},
   "outputs": [
    {
     "name": "stdout",
     "output_type": "stream",
     "text": [
      "Total number of products scrapped in 30 seconds are  624\n"
     ]
    }
   ],
   "source": [
    "print(\"Total number of products scrapped in 30 seconds are \", len(df))"
   ]
  }
 ],
 "metadata": {
  "kernelspec": {
   "display_name": "Python 3",
   "language": "python",
   "name": "python3"
  },
  "language_info": {
   "codemirror_mode": {
    "name": "ipython",
    "version": 3
   },
   "file_extension": ".py",
   "mimetype": "text/x-python",
   "name": "python",
   "nbconvert_exporter": "python",
   "pygments_lexer": "ipython3",
   "version": "3.10.1"
  },
  "orig_nbformat": 4
 },
 "nbformat": 4,
 "nbformat_minor": 2
}
